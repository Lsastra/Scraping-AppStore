{
 "cells": [
  {
   "cell_type": "code",
   "execution_count": 1,
   "metadata": {},
   "outputs": [],
   "source": [
    "import time\n",
    "import re\n",
    "import pandas as pd\n",
    "\n",
    "from selenium import webdriver\n",
    "from selenium.webdriver.common.keys import Keys\n",
    "from selenium.webdriver.support import expected_conditions as EC\n",
    "from selenium.webdriver.support.ui import WebDriverWait\n",
    "from selenium.common.exceptions import TimeoutException\n",
    "from selenium.webdriver.common.by import By\n",
    "\n",
    "from tqdm import tqdm"
   ]
  },
  {
   "cell_type": "code",
   "execution_count": 2,
   "metadata": {},
   "outputs": [
    {
     "name": "stderr",
     "output_type": "stream",
     "text": [
      "100%|██████████| 50/50 [01:41<00:00,  2.03s/it]\n"
     ]
    }
   ],
   "source": [
    "page_url = \"https://apps.apple.com/us/app/ramen-chain/id677047931#see-all/reviews\"\n",
    "driver = webdriver.Chrome()\n",
    "driver.get(page_url)\n",
    "\n",
    "SCROLL_PAUSE_TIME = 2\n",
    "CYCLES = 60\n",
    "\n",
    "html = driver.find_element_by_tag_name('html')\n",
    "html.send_keys(Keys.PAGE_DOWN)  \n",
    "html.send_keys(Keys.PAGE_DOWN)  \n",
    "time.sleep(SCROLL_PAUSE_TIME * 3)\n",
    "\n",
    "for i in tqdm (range(CYCLES)):\n",
    "    html.send_keys(Keys.END)\n",
    "    time.sleep(SCROLL_PAUSE_TIME)"
   ]
  },
  {
   "cell_type": "markdown",
   "metadata": {},
   "source": [
    "# 1. Scrap Apple Play Games (Winata Syahputra)"
   ]
  },
  {
   "cell_type": "code",
   "execution_count": 3,
   "metadata": {},
   "outputs": [],
   "source": [
    "v_pengguna = driver.find_elements_by_xpath('//*[@class=\"we-truncate we-truncate--single-line ember-view we-customer-review__user\"]')\n",
    "v_tanggal = driver.find_elements_by_xpath('//*[@class=\"we-customer-review__date\"]')\n",
    "v_komen = driver.find_elements_by_xpath('//*[@class = \"we-clamp ember-view\"]')\n",
    "v_simpulan = driver.find_elements_by_xpath('//*[@class = \"we-truncate we-truncate--single-line ember-view we-customer-review__title\"]')\n",
    "v_bintang = driver.find_elements_by_xpath('//*[@class = \"we-star-rating-stars-outlines\"]')"
   ]
  },
  {
   "cell_type": "code",
   "execution_count": 7,
   "metadata": {},
   "outputs": [
    {
     "name": "stderr",
     "output_type": "stream",
     "text": [
      "100%|██████████| 589/589 [00:57<00:00, 10.28it/s]\n"
     ]
    }
   ],
   "source": [
    "pengguna = []\n",
    "tanggal = []\n",
    "komen = []\n",
    "simpulan = []\n",
    "\n",
    "number_of_items = len(v_pengguna)\n",
    "for berita in tqdm (range(number_of_items)):\n",
    "    pengguna.append(str(v_pengguna[berita].text))\n",
    "    tanggal.append(str(v_tanggal[berita].text))\n",
    "    komen.append(str(v_komen[berita].text))\n",
    "    simpulan.append(str(v_simpulan[berita].text))"
   ]
  },
  {
   "cell_type": "code",
   "execution_count": 9,
   "metadata": {},
   "outputs": [],
   "source": [
    "v_bintang = driver.find_elements_by_xpath('//*[@class=\"we-star-rating-stars-outlines\"]/span')\n",
    "bintang = []\n",
    "for alamat in v_bintang:\n",
    "    bintang.append(alamat.get_attribute('class'))"
   ]
  },
  {
   "cell_type": "markdown",
   "metadata": {},
   "source": [
    "## 2. Data Wrangling"
   ]
  },
  {
   "cell_type": "code",
   "execution_count": 17,
   "metadata": {},
   "outputs": [],
   "source": [
    "df_game = pd.DataFrame(set(zip(pengguna, bintang, tanggal, simpulan, komen)))"
   ]
  },
  {
   "cell_type": "code",
   "execution_count": 18,
   "metadata": {},
   "outputs": [],
   "source": [
    "df_game.columns=['Pengguna', 'Bintang', 'Tanggal', 'Simpulan', 'Komentar']"
   ]
  },
  {
   "cell_type": "code",
   "execution_count": 16,
   "metadata": {},
   "outputs": [],
   "source": [
    "df_game.to_csv(\"Ramen Chain.csv\")"
   ]
  }
 ],
 "metadata": {
  "kernelspec": {
   "display_name": "Python 3",
   "language": "python",
   "name": "python3"
  },
  "language_info": {
   "codemirror_mode": {
    "name": "ipython",
    "version": 3
   },
   "file_extension": ".py",
   "mimetype": "text/x-python",
   "name": "python",
   "nbconvert_exporter": "python",
   "pygments_lexer": "ipython3",
   "version": "3.7.1"
  }
 },
 "nbformat": 4,
 "nbformat_minor": 2
}
